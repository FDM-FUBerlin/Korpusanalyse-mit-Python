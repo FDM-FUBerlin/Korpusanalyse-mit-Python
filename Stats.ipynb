{
 "cells": [
  {
   "cell_type": "markdown",
   "id": "f4007e35-3be7-4404-b1ca-f6282682b56d",
   "metadata": {},
   "source": [
    "# Statistische Analysen\n",
    "*(Dozentin: Susanne Haaf)*\n",
    "* verschiedene statistische Maße\n",
    "* Grundlage: Berechnungen zur Personaldeixis\n",
    "* zusätzlich zu Pandas und NumPy setzen wir nun die Bibliothek **SciPy** ein"
   ]
  },
  {
   "cell_type": "code",
   "execution_count": 1,
   "id": "2549f9c5-965e-4791-85df-afbc3ee94051",
   "metadata": {},
   "outputs": [],
   "source": [
    "import pandas as pd\n",
    "import numpy as np\n",
    "from scipy import stats"
   ]
  },
  {
   "cell_type": "code",
   "execution_count": 2,
   "id": "49267d53-ef90-4b76-83d8-cb20142049a6",
   "metadata": {},
   "outputs": [],
   "source": [
    "inputDir = \"Daten_EL/Dataframes/Deixis/\"\n",
    "dfEB = pd.read_csv(inputDir + 'Erbauungsbuch.csv', sep=';', na_values=\".\")\n",
    "dfLP = pd.read_csv(inputDir + 'Leichenpredigten.csv', sep=';', na_values=\".\")\n",
    "dfGB = pd.read_csv(inputDir + 'Gebetbuch.csv', sep=';', na_values=\".\")"
   ]
  },
  {
   "cell_type": "markdown",
   "id": "43e955b2-29da-4c3b-9335-4ef3ad4624eb",
   "metadata": {},
   "source": [
    "* Unser Beispielmerkmal ist Deixis der 1. Person Sg./Pl. (ich, wir, unser, etc.)"
   ]
  },
  {
   "cell_type": "code",
   "execution_count": 3,
   "id": "c8796e96-6400-4ac8-bd1c-7c0d26b14eb8",
   "metadata": {},
   "outputs": [],
   "source": [
    "feat = \"1tePerson\""
   ]
  },
  {
   "cell_type": "markdown",
   "id": "686ebc5c-5116-41e1-adbb-2f93723ac110",
   "metadata": {},
   "source": [
    "## Deskriptive Statistisk\n",
    "\n",
    "* Zunächst berechnen wir Maße der deskriptiven Statistik, d.h. wir schauen, wie unsere Korpora jeweils für sich genommen aussehen \n",
    "(Kommt das Merkmal häufig vor? Ist es homogen verteilt? etc.)\n",
    "* Wir schauen nicht nur nach (relativer) Häufigkeit, sondern auch nach Verteilung und Streuung\n",
    "* Wir können auch sehen, wie gut unser Mittelwert im Korpus die Grundgesamtheit schätzt\n",
    "* Problematik von \"Klumpen\" in Sprachdaten\n",
    "* Korpus als Stichprobe\n",
    "\n",
    "## Hypothesen und Gewissheiten\n",
    "\n",
    "* Grundgesamtheit\n",
    "* Hypothese und Nullhypothese\n",
    "* Wie gut repräsentiert das Korpus die Grundgesamtheit in Bezug auf das untersuchte Merkmal?"
   ]
  },
  {
   "cell_type": "markdown",
   "id": "b71c0fed-20e6-4eb6-adb1-0562bc36afba",
   "metadata": {},
   "source": [
    "### Schiefe"
   ]
  },
  {
   "cell_type": "code",
   "execution_count": 4,
   "id": "f20f6188-6929-4a1c-b756-f868d7bfe326",
   "metadata": {},
   "outputs": [
    {
     "data": {
      "text/plain": [
       "0.6079136240487734"
      ]
     },
     "execution_count": 4,
     "metadata": {},
     "output_type": "execute_result"
    }
   ],
   "source": [
    "# Schiefe\n",
    "skEB = stats.skew(dfEB[feat])\n",
    "skLP = stats.skew(dfLP[feat])\n",
    "skGB = stats.skew(dfGB[feat])\n",
    "\n",
    "skEB"
   ]
  },
  {
   "cell_type": "code",
   "execution_count": 5,
   "id": "a7382970-e663-4d69-a674-cf9048cd1f0f",
   "metadata": {},
   "outputs": [
    {
     "data": {
      "text/plain": [
       "1"
      ]
     },
     "execution_count": 5,
     "metadata": {},
     "output_type": "execute_result"
    }
   ],
   "source": [
    "round(skEB)"
   ]
  },
  {
   "cell_type": "code",
   "execution_count": 6,
   "id": "1000cdd4-70f6-4c89-aae4-df55dfed25b4",
   "metadata": {},
   "outputs": [
    {
     "data": {
      "text/plain": [
       "0.61"
      ]
     },
     "execution_count": 6,
     "metadata": {},
     "output_type": "execute_result"
    }
   ],
   "source": [
    "round(skEB, 2)"
   ]
  },
  {
   "cell_type": "markdown",
   "id": "63af2032-ce0d-43fb-8b26-b411eea2773f",
   "metadata": {},
   "source": [
    "### Mittelwert und Median"
   ]
  },
  {
   "cell_type": "code",
   "execution_count": 7,
   "id": "545395b6-15c0-4d26-b0ad-e2e9eaede1f8",
   "metadata": {},
   "outputs": [
    {
     "data": {
      "text/plain": [
       "(21317.86, 20159.73, 63308.49)"
      ]
     },
     "execution_count": 7,
     "metadata": {},
     "output_type": "execute_result"
    }
   ],
   "source": [
    "# Arithmetischer Mittelwert\n",
    "amEB = np.mean(dfEB[feat])\n",
    "amLP = np.mean(dfLP[feat])\n",
    "amGB = np.mean(dfGB[feat])\n",
    "\n",
    "(round(amEB, 2), round(amLP, 2), round(amGB, 2))"
   ]
  },
  {
   "cell_type": "code",
   "execution_count": 8,
   "id": "1517ca62-02b3-4960-9bbe-de476b8e9846",
   "metadata": {},
   "outputs": [
    {
     "data": {
      "text/html": [
       "<div>\n",
       "<style scoped>\n",
       "    .dataframe tbody tr th:only-of-type {\n",
       "        vertical-align: middle;\n",
       "    }\n",
       "\n",
       "    .dataframe tbody tr th {\n",
       "        vertical-align: top;\n",
       "    }\n",
       "\n",
       "    .dataframe thead th {\n",
       "        text-align: right;\n",
       "    }\n",
       "</style>\n",
       "<table border=\"1\" class=\"dataframe\">\n",
       "  <thead>\n",
       "    <tr style=\"text-align: right;\">\n",
       "      <th></th>\n",
       "      <th>Schiefe</th>\n",
       "      <th>Mittelwert</th>\n",
       "    </tr>\n",
       "    <tr>\n",
       "      <th>Korpus</th>\n",
       "      <th></th>\n",
       "      <th></th>\n",
       "    </tr>\n",
       "  </thead>\n",
       "  <tbody>\n",
       "    <tr>\n",
       "      <th>Erbauungsbuch</th>\n",
       "      <td>0.61</td>\n",
       "      <td>21317.86</td>\n",
       "    </tr>\n",
       "    <tr>\n",
       "      <th>Leichenpredigt</th>\n",
       "      <td>0.12</td>\n",
       "      <td>20159.73</td>\n",
       "    </tr>\n",
       "    <tr>\n",
       "      <th>Gebetbuch</th>\n",
       "      <td>1.66</td>\n",
       "      <td>63308.49</td>\n",
       "    </tr>\n",
       "  </tbody>\n",
       "</table>\n",
       "</div>"
      ],
      "text/plain": [
       "                Schiefe  Mittelwert\n",
       "Korpus                             \n",
       "Erbauungsbuch      0.61    21317.86\n",
       "Leichenpredigt     0.12    20159.73\n",
       "Gebetbuch          1.66    63308.49"
      ]
     },
     "execution_count": 8,
     "metadata": {},
     "output_type": "execute_result"
    }
   ],
   "source": [
    "results = {\n",
    "    'Korpus':['Erbauungsbuch', 'Leichenpredigt', 'Gebetbuch'], \n",
    "    'Schiefe':[round(skEB, 2), round(skLP, 2), round(skGB,2)],\n",
    "    'Mittelwert':[round(amEB, 2), round(amLP, 2), round(amGB, 2)]\n",
    "    }\n",
    "\n",
    "dfResults = pd.DataFrame(results).set_index(keys='Korpus')\n",
    "dfResults"
   ]
  },
  {
   "cell_type": "code",
   "execution_count": 9,
   "id": "6f40797e-2d56-498c-a980-be4bb013cbf1",
   "metadata": {},
   "outputs": [
    {
     "data": {
      "text/html": [
       "<div>\n",
       "<style scoped>\n",
       "    .dataframe tbody tr th:only-of-type {\n",
       "        vertical-align: middle;\n",
       "    }\n",
       "\n",
       "    .dataframe tbody tr th {\n",
       "        vertical-align: top;\n",
       "    }\n",
       "\n",
       "    .dataframe thead th {\n",
       "        text-align: right;\n",
       "    }\n",
       "</style>\n",
       "<table border=\"1\" class=\"dataframe\">\n",
       "  <thead>\n",
       "    <tr style=\"text-align: right;\">\n",
       "      <th>Korpus</th>\n",
       "      <th>Erbauungsbuch</th>\n",
       "      <th>Leichenpredigt</th>\n",
       "      <th>Gebetbuch</th>\n",
       "    </tr>\n",
       "  </thead>\n",
       "  <tbody>\n",
       "    <tr>\n",
       "      <th>Schiefe</th>\n",
       "      <td>0.61</td>\n",
       "      <td>0.12</td>\n",
       "      <td>1.66</td>\n",
       "    </tr>\n",
       "    <tr>\n",
       "      <th>Mittelwert</th>\n",
       "      <td>21317.86</td>\n",
       "      <td>20159.73</td>\n",
       "      <td>63308.49</td>\n",
       "    </tr>\n",
       "  </tbody>\n",
       "</table>\n",
       "</div>"
      ],
      "text/plain": [
       "Korpus      Erbauungsbuch  Leichenpredigt  Gebetbuch\n",
       "Schiefe              0.61            0.12       1.66\n",
       "Mittelwert       21317.86        20159.73   63308.49"
      ]
     },
     "execution_count": 9,
     "metadata": {},
     "output_type": "execute_result"
    }
   ],
   "source": [
    "dfResults.transpose()"
   ]
  },
  {
   "cell_type": "code",
   "execution_count": 10,
   "id": "3a8de009-eb4c-4666-8637-8d0f0bd8731c",
   "metadata": {},
   "outputs": [
    {
     "data": {
      "text/plain": [
       "[21317.86, 20159.73, 63308.49]"
      ]
     },
     "execution_count": 10,
     "metadata": {},
     "output_type": "execute_result"
    }
   ],
   "source": [
    "# Median\n",
    "medEB = np.median(dfEB[feat])\n",
    "medLP = np.median(dfLP[feat])\n",
    "medGB = np.median(dfGB[feat])\n",
    "\n",
    "results['Median'] = [round(amEB, 2), round(amLP, 2), round(amGB, 2)]\n",
    "results['Median']"
   ]
  },
  {
   "cell_type": "code",
   "execution_count": 11,
   "id": "8fa80899-b7aa-4754-ab1c-1c5048a0c819",
   "metadata": {},
   "outputs": [
    {
     "data": {
      "text/plain": [
       "{'Korpus': ['Erbauungsbuch', 'Leichenpredigt', 'Gebetbuch'],\n",
       " 'Schiefe': [0.61, 0.12, 1.66],\n",
       " 'Mittelwert': [21317.86, 20159.73, 63308.49],\n",
       " 'Median': [21317.86, 20159.73, 63308.49]}"
      ]
     },
     "execution_count": 11,
     "metadata": {},
     "output_type": "execute_result"
    }
   ],
   "source": [
    "results"
   ]
  },
  {
   "cell_type": "markdown",
   "id": "d30d3477-5bc1-4747-bc6a-8f62b967143f",
   "metadata": {},
   "source": [
    "### Interquartilsabstand"
   ]
  },
  {
   "cell_type": "code",
   "execution_count": 12,
   "id": "8343b791-1985-4b49-894b-895a77eaf91d",
   "metadata": {},
   "outputs": [
    {
     "data": {
      "text/plain": [
       "[22675.47, 4422.84, 5206.42]"
      ]
     },
     "execution_count": 12,
     "metadata": {},
     "output_type": "execute_result"
    }
   ],
   "source": [
    "# Interquartile Range\n",
    "iqrEB = stats.iqr(dfEB[feat])\n",
    "iqrLP = stats.iqr(dfLP[feat])\n",
    "iqrGB = stats.iqr(dfGB[feat])\n",
    "\n",
    "results['Interquartile Range'] = [round(iqrEB, 2), round(iqrLP, 2), round(iqrGB, 2)]\n",
    "results['Interquartile Range']"
   ]
  },
  {
   "cell_type": "markdown",
   "id": "b2737b4f-c89e-4a0c-a2c9-c1d05d1b5adb",
   "metadata": {},
   "source": [
    "### Standardfehler"
   ]
  },
  {
   "cell_type": "code",
   "execution_count": 13,
   "id": "ce9eff98-a3e9-49b3-aef2-c890881b6e48",
   "metadata": {},
   "outputs": [
    {
     "data": {
      "text/plain": [
       "[6067.24, 1261.54, 5800.97]"
      ]
     },
     "execution_count": 13,
     "metadata": {},
     "output_type": "execute_result"
    }
   ],
   "source": [
    "# Standardfehler des Mittelwerts\n",
    "seEB = stats.sem(dfEB[feat])\n",
    "seLP = stats.sem(dfLP[feat])\n",
    "seGB = stats.sem(dfGB[feat])\n",
    "\n",
    "results['Standardfehler'] = [round(seEB, 2), round(seLP, 2), round(seGB, 2)]\n",
    "results['Standardfehler']"
   ]
  },
  {
   "cell_type": "markdown",
   "id": "c0ab45ac-71bf-4cdd-ac83-d796cad445d0",
   "metadata": {},
   "source": [
    "### Standardabweichung und Variationskoeffizient"
   ]
  },
  {
   "cell_type": "code",
   "execution_count": 14,
   "id": "8c561786-f313-45d3-b72d-3b014c93ae38",
   "metadata": {},
   "outputs": [
    {
     "data": {
      "text/plain": [
       "[14861.64, 3568.16, 12971.36]"
      ]
     },
     "execution_count": 14,
     "metadata": {},
     "output_type": "execute_result"
    }
   ],
   "source": [
    "# Standardabweichung\n",
    "sdEB = np.std(dfEB[feat])\n",
    "sdLP = np.std(dfLP[feat])\n",
    "sdGB = np.std(dfGB[feat])\n",
    "\n",
    "results['Standardabweichung'] = [round(sdEB, 2), round(sdLP, 2), round(sdGB, 2)]\n",
    "results['Standardabweichung']"
   ]
  },
  {
   "cell_type": "code",
   "execution_count": 15,
   "id": "e4f80c27-5893-4185-8494-623eeb63f1ae",
   "metadata": {},
   "outputs": [
    {
     "data": {
      "text/plain": [
       "[0.7, 0.18, 0.2]"
      ]
     },
     "execution_count": 15,
     "metadata": {},
     "output_type": "execute_result"
    }
   ],
   "source": [
    "# Variationskoeffizient\n",
    "svarEB = stats.variation(dfEB[feat])\n",
    "svarLP = stats.variation(dfLP[feat])\n",
    "svarGB = stats.variation(dfGB[feat])\n",
    "\n",
    "results['Variationskoeffizient'] = [round(svarEB, 2), round(svarLP, 2), round(svarGB, 2)]\n",
    "results['Variationskoeffizient']"
   ]
  },
  {
   "cell_type": "markdown",
   "id": "b1b02870-ab67-4ad6-af33-1e472c569d96",
   "metadata": {},
   "source": [
    "## Testen von Hypothesen je Korpus\n",
    "\n",
    "### Verteilung \n",
    "\n",
    "* Test auf Normalverteilung (Wissen darüber ist die Grundlage für viele weitere Tests)\n",
    "* Shapiro-Wilk-Test auf Normalverteilung\n",
    "    * p-Wert > 0.05: Normalverteilung\n",
    "    * p-Wert < 0.05: keine Normalverteilung\n",
    "\n",
    "### p-Wert\n",
    "* Hypothesis-Testing: Richtwert = p-Wert\n",
    "* Konvention:\n",
    "    * p < 0.05: Nullhypothese kann verworfen werden\n",
    "    * p > 0.05: Hypothese kann verworfen werden\n",
    "* Schwelle 0.05:\n",
    "    * 95%ige Sicherheit, dass die Einschätzung stimmt\n",
    "    * Ist das eigentlich so sicher? &rarr; zur Problematik des p-Werts\n",
    "* Vorteil des p-Werts: Standardmaß, das Einschätzungen über Teststatistiken hinweg ermöglicht"
   ]
  },
  {
   "cell_type": "code",
   "execution_count": 16,
   "id": "76567325-59b9-496b-b615-cb842fdfeed8",
   "metadata": {},
   "outputs": [
    {
     "data": {
      "text/plain": [
       "(ShapiroResult(statistic=0.8889000415802002, pvalue=0.2689744830131531),\n",
       " ShapiroResult(statistic=0.960744321346283, pvalue=0.806079626083374),\n",
       " ShapiroResult(statistic=0.6525797843933105, pvalue=0.0018816478550434113))"
      ]
     },
     "execution_count": 16,
     "metadata": {},
     "output_type": "execute_result"
    }
   ],
   "source": [
    "# Verteilung\n",
    "swEB = stats.shapiro(dfEB[feat])\n",
    "swLP = stats.shapiro(dfLP[feat])\n",
    "swGB = stats.shapiro(dfGB[feat])\n",
    "(swEB, swLP, swGB)"
   ]
  },
  {
   "cell_type": "markdown",
   "id": "0d867dd8-a1de-40c6-9ca6-36e6cf0d6b08",
   "metadata": {},
   "source": [
    "### Konfidenzintervall \n",
    "* Wie gut schätzt der Mittelwert die Grundgesamtheit?"
   ]
  },
  {
   "cell_type": "code",
   "execution_count": 17,
   "id": "4b1788e6-3136-4317-a955-a171975b431f",
   "metadata": {},
   "outputs": [
    {
     "data": {
      "text/plain": [
       "[(9426.29, 33209.43), (17687.17, 22632.3), (48396.63, 78220.36)]"
      ]
     },
     "execution_count": 17,
     "metadata": {},
     "output_type": "execute_result"
    }
   ],
   "source": [
    "# Konfidenzintervall\n",
    "# (unterschiedliche Berechnung, je nachdem, ob Normalverteilung vorliegt oder nicht)\n",
    "if swEB[1] < 0.05:\n",
    "    ciEB = stats.t.interval(confidence=0.95, df=len(dfEB[feat])-1, loc=np.mean(dfEB[feat]), scale=stats.sem(dfEB[feat]))\n",
    "elif swEB[1] >= 0.05:\n",
    "    ciEB = stats.norm.interval(confidence=0.95, loc=np.mean(dfEB[feat]), scale=stats.sem(dfEB[feat]))\n",
    "\n",
    "if swLP[1] < 0.05:\n",
    "    ciLP = stats.t.interval(confidence=0.95, df=len(dfLP[feat])-1, loc=np.mean(dfLP[feat]), scale=stats.sem(dfLP[feat]))\n",
    "elif swLP[1] >= 0.05:\n",
    "    ciLP = stats.norm.interval(confidence=0.95, loc=np.mean(dfLP[feat]), scale=stats.sem(dfLP[feat]))\n",
    "\n",
    "if swGB[1] < 0.05:\n",
    "    ciGB = stats.t.interval(confidence=0.95, df=len(dfGB[feat])-1, loc=np.mean(dfGB[feat]), scale=stats.sem(dfGB[feat]))\n",
    "elif swGB[1] >= 0.05:\n",
    "    ciGB = stats.norm.interval(confidence=0.95, loc=np.mean(dfGB[feat]), scale=stats.sem(dfGB[feat]))\n",
    "\n",
    "results['Konfidenzintervall'] = [(round(ciEB[0], 2), round(ciEB[1], 2)), (round(ciLP[0], 2), round(ciLP[1], 2)), (round(ciGB[0], 2), round(ciGB[1], 2))]\n",
    "results['Konfidenzintervall']"
   ]
  },
  {
   "cell_type": "markdown",
   "id": "f09b861e-1ccf-4617-ab8c-0c076b6aca00",
   "metadata": {},
   "source": [
    "### Korrelation\n",
    "\n",
    "* Relevanz eines Merkmals in Bezug auf ein anderes (Kollokation *Bank/sitzen* vs. *Bank/stehen* vs. *Bank/Geld*)\n",
    "* hier: Relevanz eines Merkmals im zeitlichen Verlauf"
   ]
  },
  {
   "cell_type": "code",
   "execution_count": 18,
   "id": "be456d13-d6b8-4f49-9704-15dbe97b0655",
   "metadata": {},
   "outputs": [
    {
     "data": {
      "text/plain": [
       "[(-0.1, 0.76), (-0.44, 0.12), (-0.6, 0.14)]"
      ]
     },
     "execution_count": 18,
     "metadata": {},
     "output_type": "execute_result"
    }
   ],
   "source": [
    "# Korrelationskoeffizient (Kedall's Tau)\n",
    "try:\n",
    "    ktEB = stats.kendalltau(dfEB[feat], dfEB['date'])\n",
    "except:\n",
    "    ktEB = 'N/A'\n",
    "\n",
    "try:\n",
    "    ktLP = stats.kendalltau(dfLP[feat], dfLP['date'])\n",
    "except:\n",
    "    ktLP = 'N/A'\n",
    "    \n",
    "try:\n",
    "    ktGB = stats.kendalltau(dfGB[feat], dfGB['date'])\n",
    "except:\n",
    "    ktGB = 'N/A'\n",
    "\n",
    "results['Korrelationskoeffizient'] = [(round(ktEB[0], 2), round(ktEB[1], 2)), (round(ktLP[0], 2), round(ktLP[1], 2)), (round(ktGB[0], 2), round(ktGB[1], 2))]\n",
    "results['Korrelationskoeffizient']"
   ]
  },
  {
   "cell_type": "markdown",
   "id": "44b1fda9-4590-489a-92ba-5d4aa39d0063",
   "metadata": {},
   "source": [
    "## Beurteilung der Korpora im Überblick"
   ]
  },
  {
   "cell_type": "code",
   "execution_count": 19,
   "id": "483c92d3-68cf-43ac-95f7-56a8c55dac16",
   "metadata": {},
   "outputs": [
    {
     "data": {
      "text/html": [
       "<div>\n",
       "<style scoped>\n",
       "    .dataframe tbody tr th:only-of-type {\n",
       "        vertical-align: middle;\n",
       "    }\n",
       "\n",
       "    .dataframe tbody tr th {\n",
       "        vertical-align: top;\n",
       "    }\n",
       "\n",
       "    .dataframe thead th {\n",
       "        text-align: right;\n",
       "    }\n",
       "</style>\n",
       "<table border=\"1\" class=\"dataframe\">\n",
       "  <thead>\n",
       "    <tr style=\"text-align: right;\">\n",
       "      <th>Korpus</th>\n",
       "      <th>Erbauungsbuch</th>\n",
       "      <th>Leichenpredigt</th>\n",
       "      <th>Gebetbuch</th>\n",
       "    </tr>\n",
       "  </thead>\n",
       "  <tbody>\n",
       "    <tr>\n",
       "      <th>Schiefe</th>\n",
       "      <td>0.61</td>\n",
       "      <td>0.12</td>\n",
       "      <td>1.66</td>\n",
       "    </tr>\n",
       "    <tr>\n",
       "      <th>Mittelwert</th>\n",
       "      <td>21317.86</td>\n",
       "      <td>20159.73</td>\n",
       "      <td>63308.49</td>\n",
       "    </tr>\n",
       "    <tr>\n",
       "      <th>Median</th>\n",
       "      <td>21317.86</td>\n",
       "      <td>20159.73</td>\n",
       "      <td>63308.49</td>\n",
       "    </tr>\n",
       "    <tr>\n",
       "      <th>Interquartile Range</th>\n",
       "      <td>22675.47</td>\n",
       "      <td>4422.84</td>\n",
       "      <td>5206.42</td>\n",
       "    </tr>\n",
       "    <tr>\n",
       "      <th>Standardfehler</th>\n",
       "      <td>6067.24</td>\n",
       "      <td>1261.54</td>\n",
       "      <td>5800.97</td>\n",
       "    </tr>\n",
       "    <tr>\n",
       "      <th>Standardabweichung</th>\n",
       "      <td>14861.64</td>\n",
       "      <td>3568.16</td>\n",
       "      <td>12971.36</td>\n",
       "    </tr>\n",
       "    <tr>\n",
       "      <th>Variationskoeffizient</th>\n",
       "      <td>0.7</td>\n",
       "      <td>0.18</td>\n",
       "      <td>0.2</td>\n",
       "    </tr>\n",
       "    <tr>\n",
       "      <th>Konfidenzintervall</th>\n",
       "      <td>(9426.29, 33209.43)</td>\n",
       "      <td>(17687.17, 22632.3)</td>\n",
       "      <td>(48396.63, 78220.36)</td>\n",
       "    </tr>\n",
       "    <tr>\n",
       "      <th>Korrelationskoeffizient</th>\n",
       "      <td>(-0.1, 0.76)</td>\n",
       "      <td>(-0.44, 0.12)</td>\n",
       "      <td>(-0.6, 0.14)</td>\n",
       "    </tr>\n",
       "  </tbody>\n",
       "</table>\n",
       "</div>"
      ],
      "text/plain": [
       "Korpus                         Erbauungsbuch       Leichenpredigt  \\\n",
       "Schiefe                                 0.61                 0.12   \n",
       "Mittelwert                          21317.86             20159.73   \n",
       "Median                              21317.86             20159.73   \n",
       "Interquartile Range                 22675.47              4422.84   \n",
       "Standardfehler                       6067.24              1261.54   \n",
       "Standardabweichung                  14861.64              3568.16   \n",
       "Variationskoeffizient                    0.7                 0.18   \n",
       "Konfidenzintervall       (9426.29, 33209.43)  (17687.17, 22632.3)   \n",
       "Korrelationskoeffizient         (-0.1, 0.76)        (-0.44, 0.12)   \n",
       "\n",
       "Korpus                              Gebetbuch  \n",
       "Schiefe                                  1.66  \n",
       "Mittelwert                           63308.49  \n",
       "Median                               63308.49  \n",
       "Interquartile Range                   5206.42  \n",
       "Standardfehler                        5800.97  \n",
       "Standardabweichung                   12971.36  \n",
       "Variationskoeffizient                     0.2  \n",
       "Konfidenzintervall       (48396.63, 78220.36)  \n",
       "Korrelationskoeffizient          (-0.6, 0.14)  "
      ]
     },
     "execution_count": 19,
     "metadata": {},
     "output_type": "execute_result"
    }
   ],
   "source": [
    "dfResults = pd.DataFrame(results).set_index(keys='Korpus')\n",
    "dfResults.transpose()"
   ]
  },
  {
   "cell_type": "markdown",
   "id": "23849664-46cc-443e-8526-8980a4c70d8a",
   "metadata": {},
   "source": [
    "## Korpusvergleich\n",
    "\n",
    "* Endlich! Ist das Merkmal nun in einem Korpus relevanter als in den anderen oder nicht?"
   ]
  },
  {
   "cell_type": "code",
   "execution_count": 20,
   "id": "8a6d047c-d6ad-41fd-a4a8-d88dcb0f6f46",
   "metadata": {},
   "outputs": [],
   "source": [
    "resultsVgl = {\n",
    "    'Korpus':['EB vs. LP', 'LP vs. GB', 'EB vs. GB'], \n",
    "    }"
   ]
  },
  {
   "cell_type": "markdown",
   "id": "6f63a542-4659-4bf1-94f4-89d8c21651b5",
   "metadata": {},
   "source": [
    "### Test auf Unterschiede in der Frequenz\n",
    "\n",
    "* Mann-Whitney-U-Test\n",
    "* T-Test\n",
    "* Effektstärke"
   ]
  },
  {
   "cell_type": "code",
   "execution_count": 21,
   "id": "0b4b9ef9-7a9b-4018-96d2-6aef7ed1ae79",
   "metadata": {},
   "outputs": [
    {
     "data": {
      "text/plain": [
       "[0.68, 0.0, 0.0]"
      ]
     },
     "execution_count": 21,
     "metadata": {},
     "output_type": "execute_result"
    }
   ],
   "source": [
    "# Mann-Whitney-U-Test\n",
    "mwEB = stats.mannwhitneyu(dfEB[feat], dfLP[feat], alternative='two-sided')\n",
    "mwLP = stats.mannwhitneyu(dfLP[feat], dfGB[feat], alternative='two-sided')\n",
    "mwGB = stats.mannwhitneyu(dfEB[feat], dfGB[feat], alternative='two-sided')\n",
    "\n",
    "resultsVgl['U-Test'] = [round(mwEB[1], 2), round(mwLP[1], 2), round(mwGB[1], 2)]\n",
    "resultsVgl['U-Test']"
   ]
  },
  {
   "cell_type": "code",
   "execution_count": 22,
   "id": "edb24534-c5e8-417e-b414-e6ed2b50eabb",
   "metadata": {},
   "outputs": [
    {
     "data": {
      "text/plain": [
       "[0.6806, 0.0004, 0.0012]"
      ]
     },
     "execution_count": 22,
     "metadata": {},
     "output_type": "execute_result"
    }
   ],
   "source": [
    "resultsVgl['U-Test'] = [round(mwEB[1], 4), round(mwLP[1], 4), round(mwGB[1], 4)]\n",
    "resultsVgl['U-Test']"
   ]
  },
  {
   "cell_type": "code",
   "execution_count": 23,
   "id": "decceac4-e8b1-43ec-93d2-4f5fd2214ac4",
   "metadata": {},
   "outputs": [
    {
     "data": {
      "text/plain": [
       "[0.8359, 0.0, 0.0004]"
      ]
     },
     "execution_count": 23,
     "metadata": {},
     "output_type": "execute_result"
    }
   ],
   "source": [
    "# T-Test\n",
    "# \"two-sided test for the null hypothesis that 2 independent samples have identical average (expected) values --> \n",
    "# independent samples = 2 unterschiedliche Korpora; Unterschied zu dependent s. Hartmann, Tutorial, S. 48\"\n",
    "ttEB = stats.ttest_ind(dfEB[feat], dfLP[feat])\n",
    "ttLP = stats.ttest_ind(dfLP[feat], dfGB[feat])\n",
    "ttGB = stats.ttest_ind(dfEB[feat], dfGB[feat])\n",
    "\n",
    "resultsVgl['T-Test'] = [round(ttEB[1], 4), round(ttLP[1], 4), round(ttGB[1], 4)]\n",
    "resultsVgl['T-Test']"
   ]
  },
  {
   "cell_type": "code",
   "execution_count": 24,
   "id": "b2132112-64eb-4ef8-8dd3-778d944c1778",
   "metadata": {},
   "outputs": [
    {
     "data": {
      "text/plain": [
       "[('klein', 0.11), ('groß', 5.07), ('groß', 2.99)]"
      ]
     },
     "execution_count": 24,
     "metadata": {},
     "output_type": "execute_result"
    }
   ],
   "source": [
    "# Effektstärke (Cohen's d)\n",
    "# entsprechend Antwort von Bengt auf https://stackoverflow.com/questions/21532471/how-to-calculate-cohens-d-in-python\n",
    "from math import sqrt\n",
    "lenEB = len(dfEB[feat])\n",
    "lenLP = len(dfLP[feat])\n",
    "lenGB = len(dfGB[feat])\n",
    "\n",
    "#sdEB, sdLP, sdVK von oben\n",
    "cdEB = (amEB - amLP) / (sqrt((((lenEB - 1) * (sdEB ** 2)) + ((lenLP - 1) * (sdLP ** 2))) / (lenEB + lenLP -2)))\n",
    "cdLP = (amLP - amGB) / (sqrt((((lenLP - 1) * (sdLP ** 2)) + ((lenGB - 1) * (sdGB ** 2))) / (lenLP + lenGB - 2)))\n",
    "cdGB = (amEB - amGB) / (sqrt((((lenEB - 1) * (sdEB ** 2)) + ((lenGB - 1) * (sdGB ** 2))) / (lenEB + lenGB - 2)))\n",
    "\n",
    "effect = [cdEB, cdLP, cdGB]\n",
    "resultsVgl['Effekt'] = []\n",
    "\n",
    "for i in effect:\n",
    "    if abs(i) <= 0.2:\n",
    "        x = 'klein'\n",
    "    elif abs(i) > 0.2 and abs(i) < 0.4:\n",
    "        x = 'klein – mittel'\n",
    "    elif abs(i) >= 0.4 and abs(i) <= 0.6:\n",
    "        x = 'mittel'\n",
    "    elif abs(i) > 0.6 and abs(i) < 0.8:\n",
    "        x = 'mittel – groß'\n",
    "    elif abs(i) >= 0.8:\n",
    "        x = 'groß'\n",
    "    resultsVgl['Effekt'].append((x, round(abs(i), 2)))\n",
    "\n",
    "resultsVgl['Effekt']"
   ]
  },
  {
   "cell_type": "markdown",
   "id": "41bdc8b4-7f77-457a-8ae8-da35dfcddfe1",
   "metadata": {},
   "source": [
    "### Tests auf Ähnlichkeit in der Varianz "
   ]
  },
  {
   "cell_type": "code",
   "execution_count": 25,
   "id": "3fb079e2-37ee-4963-b8ea-793e6ba0607b",
   "metadata": {},
   "outputs": [
    {
     "data": {
      "text/plain": [
       "[0.0171, 0.7569, 0.3859]"
      ]
     },
     "execution_count": 25,
     "metadata": {},
     "output_type": "execute_result"
    }
   ],
   "source": [
    "# Varianzunterschied (Fligner-Killeen-Test)\n",
    "# H0: Similar variances\n",
    "fkEB = stats.fligner(dfEB[feat], dfLP[feat])\n",
    "fkLP = stats.fligner(dfLP[feat], dfGB[feat])\n",
    "fkGB = stats.fligner(dfEB[feat], dfGB[feat])\n",
    "\n",
    "resultsVgl['Fligner-Killeen'] = [round(fkEB[1], 4), round(fkLP[1], 4), round(fkGB[1], 4)]\n",
    "resultsVgl['Fligner-Killeen']"
   ]
  },
  {
   "cell_type": "code",
   "execution_count": 26,
   "id": "57589d76-7a1c-446f-9d21-94723e74a94f",
   "metadata": {},
   "outputs": [
    {
     "data": {
      "text/plain": [
       "[0.0224, 0.3251, 0.4705]"
      ]
     },
     "execution_count": 26,
     "metadata": {},
     "output_type": "execute_result"
    }
   ],
   "source": [
    "# Varianzunterschied (Brown-Forsythe Test)\n",
    "# H0: Similar variances\n",
    "# default ist center=\"median\", wodurch der Test auf Grundlage des Medians durchgeführt wird\n",
    "# Levene-test wäre center=\"mean\"; Abwandlung Brown-Forsythe-Test ist center=\"median\"\n",
    "bfEB = stats.levene(dfEB[feat], dfLP[feat])\n",
    "bfLP = stats.levene(dfLP[feat], dfGB[feat])\n",
    "bfGB = stats.levene(dfEB[feat], dfGB[feat])\n",
    "\n",
    "resultsVgl['Brown-Forsythe'] = [round(bfEB[1], 4), round(bfLP[1], 4), round(bfGB[1], 4)]\n",
    "resultsVgl['Brown-Forsythe']"
   ]
  },
  {
   "cell_type": "markdown",
   "id": "9edc8ea7-5c8b-44ed-9fb7-bd9f57158389",
   "metadata": {},
   "source": [
    "### Tests auf Ähnlichkeit in der Verteilung"
   ]
  },
  {
   "cell_type": "code",
   "execution_count": 27,
   "id": "0b60fc27-fb34-4d1f-a953-ed26f25d020d",
   "metadata": {},
   "outputs": [
    {
     "data": {
      "text/plain": [
       "[0.0979, 0.0004, 0.0012]"
      ]
     },
     "execution_count": 27,
     "metadata": {},
     "output_type": "execute_result"
    }
   ],
   "source": [
    "# Verteilungsunterschied (two-sample Kolmogorov-Smirnov test)\n",
    "# H0: Same distribution\n",
    "arrEB = dfEB[feat].values\n",
    "arrLP = dfLP[feat].values\n",
    "arrVK = dfGB[feat].values\n",
    "\n",
    "ksEB = stats.ks_2samp(arrEB, arrLP)\n",
    "ksLP = stats.ks_2samp(arrLP, arrVK)\n",
    "ksGB = stats.ks_2samp(arrEB, arrVK)\n",
    "\n",
    "resultsVgl['Kolmogorov-Smirnov'] = [round(ksEB[1], 4), round(ksLP[1], 4), round(ksGB[1], 4)]\n",
    "resultsVgl['Kolmogorov-Smirnov']"
   ]
  },
  {
   "cell_type": "markdown",
   "id": "899c68df-1d73-4287-8f3d-d87e42094edb",
   "metadata": {},
   "source": [
    "## Finale Beurteilung des betrachteten Merkmals"
   ]
  },
  {
   "cell_type": "code",
   "execution_count": 28,
   "id": "9253a360-f1d3-4ae6-a697-01864acb0918",
   "metadata": {},
   "outputs": [
    {
     "data": {
      "text/html": [
       "<div>\n",
       "<style scoped>\n",
       "    .dataframe tbody tr th:only-of-type {\n",
       "        vertical-align: middle;\n",
       "    }\n",
       "\n",
       "    .dataframe tbody tr th {\n",
       "        vertical-align: top;\n",
       "    }\n",
       "\n",
       "    .dataframe thead th {\n",
       "        text-align: right;\n",
       "    }\n",
       "</style>\n",
       "<table border=\"1\" class=\"dataframe\">\n",
       "  <thead>\n",
       "    <tr style=\"text-align: right;\">\n",
       "      <th>Korpus</th>\n",
       "      <th>EB vs. LP</th>\n",
       "      <th>LP vs. GB</th>\n",
       "      <th>EB vs. GB</th>\n",
       "    </tr>\n",
       "  </thead>\n",
       "  <tbody>\n",
       "    <tr>\n",
       "      <th>U-Test</th>\n",
       "      <td>0.6806</td>\n",
       "      <td>0.0004</td>\n",
       "      <td>0.0012</td>\n",
       "    </tr>\n",
       "    <tr>\n",
       "      <th>T-Test</th>\n",
       "      <td>0.8359</td>\n",
       "      <td>0.0</td>\n",
       "      <td>0.0004</td>\n",
       "    </tr>\n",
       "    <tr>\n",
       "      <th>Effekt</th>\n",
       "      <td>(klein, 0.11)</td>\n",
       "      <td>(groß, 5.07)</td>\n",
       "      <td>(groß, 2.99)</td>\n",
       "    </tr>\n",
       "    <tr>\n",
       "      <th>Fligner-Killeen</th>\n",
       "      <td>0.0171</td>\n",
       "      <td>0.7569</td>\n",
       "      <td>0.3859</td>\n",
       "    </tr>\n",
       "    <tr>\n",
       "      <th>Brown-Forsythe</th>\n",
       "      <td>0.0224</td>\n",
       "      <td>0.3251</td>\n",
       "      <td>0.4705</td>\n",
       "    </tr>\n",
       "    <tr>\n",
       "      <th>Kolmogorov-Smirnov</th>\n",
       "      <td>0.0979</td>\n",
       "      <td>0.0004</td>\n",
       "      <td>0.0012</td>\n",
       "    </tr>\n",
       "  </tbody>\n",
       "</table>\n",
       "</div>"
      ],
      "text/plain": [
       "Korpus                  EB vs. LP     LP vs. GB     EB vs. GB\n",
       "U-Test                     0.6806        0.0004        0.0012\n",
       "T-Test                     0.8359           0.0        0.0004\n",
       "Effekt              (klein, 0.11)  (groß, 5.07)  (groß, 2.99)\n",
       "Fligner-Killeen            0.0171        0.7569        0.3859\n",
       "Brown-Forsythe             0.0224        0.3251        0.4705\n",
       "Kolmogorov-Smirnov         0.0979        0.0004        0.0012"
      ]
     },
     "execution_count": 28,
     "metadata": {},
     "output_type": "execute_result"
    }
   ],
   "source": [
    "dfResults = pd.DataFrame(resultsVgl).set_index(keys='Korpus')\n",
    "dfResults.transpose()"
   ]
  },
  {
   "cell_type": "code",
   "execution_count": null,
   "id": "592a1c1b-6123-4025-b1f1-2aaf2673d9ad",
   "metadata": {},
   "outputs": [],
   "source": []
  }
 ],
 "metadata": {
  "kernelspec": {
   "display_name": "Python 3 (ipykernel)",
   "language": "python",
   "name": "python3"
  },
  "language_info": {
   "codemirror_mode": {
    "name": "ipython",
    "version": 3
   },
   "file_extension": ".py",
   "mimetype": "text/x-python",
   "name": "python",
   "nbconvert_exporter": "python",
   "pygments_lexer": "ipython3",
   "version": "3.11.2"
  }
 },
 "nbformat": 4,
 "nbformat_minor": 5
}
